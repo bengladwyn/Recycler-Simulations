{
 "cells": [
  {
   "cell_type": "markdown",
   "metadata": {},
   "source": [
    "# Recyler Data Plots"
   ]
  },
  {
   "cell_type": "code",
   "execution_count": null,
   "metadata": {},
   "outputs": [],
   "source": [
    "# The way the files are strucutred is that we have different data point based on booster turns. \n",
    "# For each data point, we get data 3 times.\n",
    "# Data is organized as number_of_turns_00N where N is 0,1,2 \n",
    "# For each data point. We measure the intensity and intrabunch motion using a scope. "
   ]
  },
  {
   "cell_type": "code",
   "execution_count": null,
   "metadata": {},
   "outputs": [],
   "source": [
    "import numpy as np\n",
    "import matplotlib.pyplot as plt"
   ]
  },
  {
   "cell_type": "code",
   "execution_count": null,
   "metadata": {},
   "outputs": [],
   "source": [
    "# this is the intensity file. It shows the beam intensity verses time in our event ($E1)\n",
    "turn800Beam = np.loadtxt('8turns0_beam')"
   ]
  },
  {
   "cell_type": "code",
   "execution_count": null,
   "metadata": {},
   "outputs": [],
   "source": [
    "plt.plot(turn800Beam[0:,0],turn800Beam[0:,1])\n",
    "plt.xlabel(r'Time (s)')\n",
    "plt.ylabel(r'E $\\times 10^{12}$ (ppb)')\n",
    "plt.axvline(0.57,c='k')\n",
    "# the vertical line represent were the scope data is taken"
   ]
  },
  {
   "cell_type": "code",
   "execution_count": null,
   "metadata": {},
   "outputs": [],
   "source": [
    "turn800 = np.load('8turns000.npy',allow_pickle=True)\n",
    "\n",
    "print (f'There are {turn800.shape[0]} channels in the data. Each channel represent data from {turn800.shape[1]} turns and each turn has {turn800.shape[2]} point')"
   ]
  },
  {
   "cell_type": "code",
   "execution_count": null,
   "metadata": {},
   "outputs": [],
   "source": [
    "time_along_bunch = np.linspace(-0.75e-7,0.75e-7,7500)\n",
    "position = -1*turn800[0]/-1*turn800[1]"
   ]
  },
  {
   "cell_type": "code",
   "execution_count": null,
   "metadata": {},
   "outputs": [],
   "source": [
    "fig,ax = plt.subplots(3,1,dpi=100,sharex=True, figsize=(8,8))\n",
    "fig.suptitle('8turns000 Turn 9000')\n",
    "ax[0].plot(time_along_bunch,turn800[0][9000])\n",
    "ax[1].plot(time_along_bunch,-1*turn800[1][9000])\n",
    "ax[2].plot(time_along_bunch,position[9000])\n",
    "ax[0].set_xlabel('Time (s)')\n",
    "ax[0].set_ylabel('A-B (Volt)')\n",
    "ax[1].set_ylabel('A+B (Volt)')\n",
    "ax[2].set_ylabel('A-B/A+B (Distance)')"
   ]
  },
  {
   "cell_type": "code",
   "execution_count": null,
   "metadata": {},
   "outputs": [],
   "source": [
    "# Find position at a given time for each turn\n",
    "time = 6e-8\n",
    "time_index = np.argmin(np.abs(time_along_bunch - time))\n",
    "plt.plot(position[:, time_index])\n",
    "plt.xlabel('Turn')\n",
    "plt.ylabel('Position')"
   ]
  },
  {
   "cell_type": "code",
   "execution_count": null,
   "metadata": {},
   "outputs": [],
   "source": [
    "# Fourier transform the data\n",
    "fourier = np.fft.fft(position[:, time_index])\n",
    "\n",
    "# Frequency domain\n",
    "freq = np.fft.fftfreq(len(position[:, time_index]))\n",
    "\n",
    "# Plotting\n",
    "plt.plot(freq, np.abs(fourier))\n",
    "plt.xlabel('Frequency')\n",
    "plt.ylabel('Amplitude')\n",
    "plt.title('Fourier Transform')\n",
    "plt.show()"
   ]
  }
 ],
 "metadata": {
  "kernelspec": {
   "display_name": "Python 3",
   "language": "python",
   "name": "python3"
  },
  "language_info": {
   "codemirror_mode": {
    "name": "ipython",
    "version": 3
   },
   "file_extension": ".py",
   "mimetype": "text/x-python",
   "name": "python",
   "nbconvert_exporter": "python",
   "pygments_lexer": "ipython3",
   "version": "3.11.4"
  },
  "orig_nbformat": 4
 },
 "nbformat": 4,
 "nbformat_minor": 2
}
