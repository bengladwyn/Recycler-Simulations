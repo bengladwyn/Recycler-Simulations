{
 "cells": [
  {
   "cell_type": "code",
   "execution_count": 1,
   "metadata": {},
   "outputs": [
    {
     "name": "stdout",
     "output_type": "stream",
     "text": [
      "Found suitable prebuilt kernel `default_only_xtrack`.\n"
     ]
    },
    {
     "data": {
      "text/plain": [
       "array([[ 6.20860881e-06,  8.62401424e-04, -6.37374248e-06, ...,\n",
       "         8.62307176e-04, -1.42997723e-05, -8.62304438e-04],\n",
       "       [-3.95503574e-06, -5.24371954e-04,  3.80068941e-06, ...,\n",
       "        -5.24374405e-04, -3.60807534e-06,  5.24373343e-04],\n",
       "       [ 2.98326164e-06,  4.44723926e-05, -2.97329107e-06, ...,\n",
       "         4.45018674e-05, -2.49453734e-06, -4.45024267e-05],\n",
       "       ...,\n",
       "       [-9.86976554e-06, -8.51627302e-04,  9.73062759e-06, ...,\n",
       "        -8.51677969e-04,  3.05176902e-06,  8.51678468e-04],\n",
       "       [-8.03066791e-06, -9.22550115e-04,  7.67775110e-06, ...,\n",
       "        -9.22538804e-04, -9.26262548e-06,  9.22535260e-04],\n",
       "       [ 7.13909620e-06, -1.19607530e-04, -7.11556516e-06, ...,\n",
       "        -1.19669501e-04, -5.98576815e-06,  1.19670679e-04]])"
      ]
     },
     "execution_count": 1,
     "metadata": {},
     "output_type": "execute_result"
    }
   ],
   "source": [
    "import numpy as np\n",
    "\n",
    "import xobjects as xo\n",
    "import xtrack as xt\n",
    "import xpart as xp\n",
    "\n",
    "## Generate a simple line\n",
    "line = xt.Line(\n",
    "    elements=[xt.Drift(length=2.),\n",
    "              xt.Multipole(knl=[0, 1.], ksl=[0,0]),\n",
    "              xt.Drift(length=1.),\n",
    "              xt.Multipole(knl=[0, -1.], ksl=[0,0])],\n",
    "    element_names=['drift_0', 'quad_0', 'drift_1', 'quad_1'])\n",
    "\n",
    "## Attach a reference particle to the line (optional)\n",
    "## (defines the reference mass, charge and energy)\n",
    "line.particle_ref = xp.Particles(p0c=6500e9, #eV\n",
    "                                 q0=1, mass0=xp.PROTON_MASS_EV)\n",
    "\n",
    "## Choose a context\n",
    "context = xo.ContextCpu()         # For CPU\n",
    "# context = xo.ContextCupy()      # For CUDA GPUs\n",
    "# context = xo.ContextPyopencl()  # For OpenCL GPUs\n",
    "\n",
    "## Transfer lattice on context and compile tracking code\n",
    "line.build_tracker(_context=context)\n",
    "\n",
    "## Build particle object on context\n",
    "n_part = 200\n",
    "particles = xp.Particles(p0c=6500e9, #eV\n",
    "                        q0=1, mass0=xp.PROTON_MASS_EV,\n",
    "                        x=np.random.uniform(-1e-3, 1e-3, n_part),\n",
    "                        px=np.random.uniform(-1e-5, 1e-5, n_part),\n",
    "                        y=np.random.uniform(-2e-3, 2e-3, n_part),\n",
    "                        py=np.random.uniform(-3e-5, 3e-5, n_part),\n",
    "                        zeta=np.random.uniform(-1e-2, 1e-2, n_part),\n",
    "                        delta=np.random.uniform(-1e-4, 1e-4, n_part),\n",
    "                        _context=context)\n",
    "\n",
    "## Track (saving turn-by-turn data)\n",
    "n_turns = 100\n",
    "line.track(particles, num_turns=n_turns,\n",
    "              turn_by_turn_monitor=True)\n",
    "\n",
    "## Turn-by-turn data is available at:\n",
    "line.record_last_track.x\n",
    "line.record_last_track.px"
   ]
  }
 ],
 "metadata": {
  "kernelspec": {
   "display_name": "Python 3",
   "language": "python",
   "name": "python3"
  },
  "language_info": {
   "codemirror_mode": {
    "name": "ipython",
    "version": 3
   },
   "file_extension": ".py",
   "mimetype": "text/x-python",
   "name": "python",
   "nbconvert_exporter": "python",
   "pygments_lexer": "ipython3",
   "version": "3.10.2"
  },
  "orig_nbformat": 4
 },
 "nbformat": 4,
 "nbformat_minor": 2
}
